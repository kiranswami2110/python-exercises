{
 "cells": [
  {
   "cell_type": "code",
   "execution_count": 1,
   "metadata": {},
   "outputs": [
    {
     "name": "stdout",
     "output_type": "stream",
     "text": [
      "\n",
      "The total Sum of Two Lists =   [25, 45, 65]\n"
     ]
    }
   ],
   "source": [
    "NumList1 = [10, 20, 30,40]\n",
    "NumList2 = [15, 25, 35]\n",
    "total = []\n",
    " \n",
    "for j in range(3):\n",
    "    total.append( NumList1[j] + NumList2[j])\n",
    " \n",
    "print(\"\\nThe total Sum of Two Lists =  \", total)"
   ]
  },
  {
   "cell_type": "code",
   "execution_count": 15,
   "metadata": {},
   "outputs": [
    {
     "name": "stdout",
     "output_type": "stream",
     "text": [
      "\n",
      "The total Subtraction of Two Lists =   [-5, -5, -5]\n"
     ]
    }
   ],
   "source": [
    "# sub\n",
    "NumList1 = [10, 20, 30,40]\n",
    "NumList2 = [15, 25, 35]\n",
    "total = []\n",
    " \n",
    "for k in range(3):\n",
    "    \n",
    "    total.append( NumList1[k] - NumList2[k])\n",
    " \n",
    "print(\"\\nThe total Subtraction of Two Lists =  \", total)"
   ]
  },
  {
   "cell_type": "code",
   "execution_count": 5,
   "metadata": {},
   "outputs": [
    {
     "name": "stdout",
     "output_type": "stream",
     "text": [
      "\n",
      "The total Sum of Two Lists =   [25, 45, 75]\n"
     ]
    }
   ],
   "source": [
    "\n",
    "NumList1 = [10, 20, 30,40]\n",
    "NumList2 = [15, 25, 35]\n",
    "total = []\n",
    "NumList1.pop(2)\n",
    "for j in range(3):\n",
    "    total.append( NumList1[j] + NumList2[j])\n",
    " \n",
    "print(\"\\nThe total Sum of Two Lists =  \", total)"
   ]
  },
  {
   "cell_type": "code",
   "execution_count": 17,
   "metadata": {},
   "outputs": [
    {
     "name": "stdout",
     "output_type": "stream",
     "text": [
      "\n",
      "The total Multiplication of Two Lists =   [150, 500, 1050]\n"
     ]
    }
   ],
   "source": [
    "#mul\n",
    "NumList1 = [10, 20, 30,40]\n",
    "NumList2 = [15, 25, 35]\n",
    "total = []\n",
    " \n",
    "for m in range(3):\n",
    "    total.append( NumList1[m] * NumList2[m])\n",
    " \n",
    "print(\"\\nThe total Multiplication of Two Lists =  \", total)"
   ]
  },
  {
   "cell_type": "code",
   "execution_count": 3,
   "metadata": {},
   "outputs": [
    {
     "name": "stdout",
     "output_type": "stream",
     "text": [
      "\n",
      "The total Sum of Two Lists =   [165, 295, 425]\n"
     ]
    }
   ],
   "source": [
    "# 6*(NumList1) + 7*(Numlist2)\n",
    "NumList1 = [10, 20, 30,40]\n",
    "NumList2 = [15, 25, 35]\n",
    "total = []\n",
    " \n",
    "for n in range(3):\n",
    "    total.append(6*NumList1[n] + 7* NumList2[n])\n",
    " \n",
    "print(\"\\nThe total Sum of Two Lists =  \", total)"
   ]
  },
  {
   "cell_type": "code",
   "execution_count": null,
   "metadata": {},
   "outputs": [],
   "source": []
  }
 ],
 "metadata": {
  "kernelspec": {
   "display_name": "Python 3",
   "language": "python",
   "name": "python3"
  },
  "language_info": {
   "codemirror_mode": {
    "name": "ipython",
    "version": 3
   },
   "file_extension": ".py",
   "mimetype": "text/x-python",
   "name": "python",
   "nbconvert_exporter": "python",
   "pygments_lexer": "ipython3",
   "version": "3.7.3"
  }
 },
 "nbformat": 4,
 "nbformat_minor": 2
}
