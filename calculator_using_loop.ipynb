cont = "y"
while cont == "y" or cont == "Y":
    print("Select operation.")
    print("1.Add")
    print("2.Subtract")
    print("3.Multiply")
    print("4.Divide")
    print("5.Square")
    print("6.Cub")

    choice = input("Enter choice(1/2/3/4/5/6):")

    num1 = int(input("Enter first number: "))
    num2 = int(input("Enter second number: "))

    if choice == '1':
       print(num1,"+",num2,"=", (num1 + num2))

    elif choice == '2':
       print(num1,"-",num2,"=", (num1 - num2))

    elif choice == '3':
       print(num1,"*",num2,"=", (num1 * num2))

    elif choice == '4':
       print(num1,"/",num2,"=", (num1 / num2))
    
    elif choice == '5':
       print(num1,"**2","=", (num1 ** 2))

    elif choice == '6':
       print(num1,"**3","=", (num1 ** 3))

    
    else:
       print("Invalid input")
    cont = input("Continue?y/n:")
